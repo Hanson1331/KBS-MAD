{
 "cells": [
  {
   "cell_type": "code",
   "execution_count": 1,
   "metadata": {},
   "outputs": [
    {
     "name": "stderr",
     "output_type": "stream",
     "text": [
      "/opt/anaconda3/envs/envwu/lib/python3.8/site-packages/tqdm/auto.py:21: TqdmWarning: IProgress not found. Please update jupyter and ipywidgets. See https://ipywidgets.readthedocs.io/en/stable/user_install.html\n",
      "  from .autonotebook import tqdm as notebook_tqdm\n"
     ]
    },
    {
     "name": "stdout",
     "output_type": "stream",
     "text": [
      "Output shape torch.Size([1, 10, 1, 64, 64]) torch.Size([1, 10, 1, 64, 64])\n"
     ]
    }
   ],
   "source": [
    "from model_mamba import *\n",
    "from diffustion_transformer import *\n",
    "import torch\n",
    "\n",
    "inputs = torch.randn(1, 10, 1, 64, 64)# Move input tensor to \n",
    "model_reconstruction = Mamba_model(shape_in=(10, 1, 64, 64))  # Move the model to GPU\n",
    "model_prediction = Dit(shape_in=(1, 10, 1, 64, 64))\n",
    "rec_feature = model_reconstruction(inputs)\n",
    "pred_feature = model_prediction(inputs)\n",
    "print(\"Output shape\", rec_feature.shape, pred_feature.shape)"
   ]
  },
  {
   "cell_type": "code",
   "execution_count": 1,
   "metadata": {},
   "outputs": [
    {
     "name": "stderr",
     "output_type": "stream",
     "text": [
      "/opt/anaconda3/envs/envwu/lib/python3.8/site-packages/tqdm/auto.py:21: TqdmWarning: IProgress not found. Please update jupyter and ipywidgets. See https://ipywidgets.readthedocs.io/en/stable/user_install.html\n",
      "  from .autonotebook import tqdm as notebook_tqdm\n"
     ]
    },
    {
     "name": "stdout",
     "output_type": "stream",
     "text": [
      "Combined Output shape: torch.Size([1, 10, 1, 64, 64])\n"
     ]
    }
   ],
   "source": [
    "import torch\n",
    "import torch.nn as nn\n",
    "from model_mamba import Mamba_model\n",
    "from diffustion_transformer import Dit\n",
    "\n",
    "class Mad(nn.Module):\n",
    "    def __init__(self, shape_in_reconstruction, shape_in_prediction, scaling_coeff=0.1, device=None):\n",
    "        \"\"\"\n",
    "        Initializes the Mad model by setting up the reconstruction and prediction models.\n",
    "\n",
    "        Args:\n",
    "            shape_in_reconstruction (tuple): Input shape for the reconstruction model (e.g., (10, 1, 64, 64)).\n",
    "            shape_in_prediction (tuple): Input shape for the prediction model (e.g., (1, 10, 1, 64, 64)).\n",
    "            scaling_coeff (float, optional): Coefficient to scale the reconstruction features before addition. Defaults to 1.0.\n",
    "            device (torch.device, optional): Device to run the models on. If None, defaults to CUDA if available.\n",
    "        \"\"\"\n",
    "        super(Mad, self).__init__()\n",
    "        \n",
    "        # Determine device\n",
    "        if device is None:\n",
    "            self.device = torch.device(\"cuda\" if torch.cuda.is_available() else \"cpu\")\n",
    "        else:\n",
    "            self.device = device\n",
    "        \n",
    "        # Initialize models\n",
    "        self.model_reconstruction = Mamba_model(shape_in=shape_in_reconstruction).to(self.device)\n",
    "        self.model_prediction = Dit(shape_in=shape_in_prediction).to(self.device)\n",
    "        \n",
    "        # Scaling coefficient\n",
    "        self.scaling_coeff = scaling_coeff\n",
    "\n",
    "    def forward(self, inputs):\n",
    "        \"\"\"\n",
    "        Forward pass that processes the inputs through both models and combines their outputs.\n",
    "\n",
    "        Args:\n",
    "            inputs (torch.Tensor): Input tensor.\n",
    "\n",
    "        Returns:\n",
    "            torch.Tensor: Combined output tensor.\n",
    "        \"\"\"\n",
    "        # Move inputs to the correct device\n",
    "        inputs = inputs.to(self.device)\n",
    "        \n",
    "        # Get features from both models\n",
    "        rec_feature = self.model_reconstruction(inputs)\n",
    "        pred_feature = self.model_prediction(inputs)\n",
    "        \n",
    "        # Ensure both features have the same shape for addition\n",
    "        if rec_feature.shape != pred_feature.shape:\n",
    "            raise ValueError(f\"Shape mismatch: rec_feature shape {rec_feature.shape} vs pred_feature shape {pred_feature.shape}\")\n",
    "        \n",
    "        # Combine features with scaling coefficient\n",
    "        combined = self.scaling_coeff * rec_feature + pred_feature\n",
    "        \n",
    "        return combined\n",
    "\n",
    "# Example usage\n",
    "if __name__ == \"__main__\":\n",
    "    # Define input tensor\n",
    "    inputs = torch.randn(1, 10, 1, 64, 64)  # Example input\n",
    "    \n",
    "    # Initialize Mad model with appropriate input shapes\n",
    "    # Adjust shape_in_prediction based on Dit's expected input\n",
    "    mad_model = Mad(\n",
    "        shape_in_reconstruction=(10, 1, 64, 64),\n",
    "        shape_in_prediction=(1, 10, 1, 64, 64),\n",
    "        scaling_coeff=0.5  # Example scaling coefficient\n",
    "    )\n",
    "    \n",
    "    # Forward pass\n",
    "    output = mad_model(inputs)\n",
    "    \n",
    "    # Print output shape\n",
    "    print(\"Combined Output shape:\", output.shape)\n"
   ]
  },
  {
   "cell_type": "code",
   "execution_count": null,
   "metadata": {},
   "outputs": [],
   "source": []
  }
 ],
 "metadata": {
  "kernelspec": {
   "display_name": "envwu",
   "language": "python",
   "name": "python3"
  },
  "language_info": {
   "codemirror_mode": {
    "name": "ipython",
    "version": 3
   },
   "file_extension": ".py",
   "mimetype": "text/x-python",
   "name": "python",
   "nbconvert_exporter": "python",
   "pygments_lexer": "ipython3",
   "version": "3.8.19"
  }
 },
 "nbformat": 4,
 "nbformat_minor": 2
}
